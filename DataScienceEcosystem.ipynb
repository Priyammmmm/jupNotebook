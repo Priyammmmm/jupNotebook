{
 "cells": [
  {
   "cell_type": "markdown",
   "id": "e3cef642-0d87-43cd-8ffb-91826ae9e8b8",
   "metadata": {},
   "source": [
    "# Data Science Tools and Ecosystem"
   ]
  },
  {
   "cell_type": "markdown",
   "id": "39197d58-65b6-4a29-9eef-6143095cb758",
   "metadata": {},
   "source": [
    "In this notebook, Data Science Tools and Ecosystem are summarized"
   ]
  },
  {
   "cell_type": "markdown",
   "id": "17378076-1b13-40fb-937d-1fb71b6f697f",
   "metadata": {},
   "source": [
    "**Objectives:**\n",
    "   - popular languages\n",
    "   - libraries\n",
    "   - Data science tools"
   ]
  },
  {
   "cell_type": "markdown",
   "id": "1b38746f-6e86-4a88-b72b-2f51c6348cfe",
   "metadata": {},
   "source": [
    "Some of the popular languages that Data Scientists use are:\n",
    "1. Python\n",
    "2. R\n",
    "3. Java\n",
    "4. C++"
   ]
  },
  {
   "cell_type": "markdown",
   "id": "5afdf288-bbe5-4e86-84ce-e7ec27c2c5b2",
   "metadata": {},
   "source": [
    "Some of the commonly used libraries used by Data Scientists include:\n",
    "1. Pandas\n",
    "2. Caret\n",
    "3. Numpy\n",
    "4. Matplotlib\n",
    "5. Scikit learn"
   ]
  },
  {
   "cell_type": "markdown",
   "id": "c0f1118d-cdd8-461a-9f03-c1c048080f7d",
   "metadata": {},
   "source": [
    "|Data Science Tools|\n",
    "|---|\n",
    "|Pycharm|\n",
    "|Jupyter Notebook|\n",
    "|RStudio|"
   ]
  },
  {
   "cell_type": "markdown",
   "id": "e850938a-001b-4e4b-9292-f7c5b4772c46",
   "metadata": {},
   "source": [
    "### Below are a few examples of evaluating arithmetic expressions in Python"
   ]
  },
  {
   "cell_type": "code",
   "execution_count": 7,
   "id": "4a954ef7-b802-401c-8ea7-0ccdef14794c",
   "metadata": {
    "tags": []
   },
   "outputs": [
    {
     "data": {
      "text/plain": [
       "17"
      ]
     },
     "execution_count": 7,
     "metadata": {},
     "output_type": "execute_result"
    }
   ],
   "source": [
    "# This a simple arithmetic expression to mutiply then add integers\n",
    "(3*4)+5"
   ]
  },
  {
   "cell_type": "code",
   "execution_count": 8,
   "id": "2fcdfef9-5abf-47c3-a397-b3eff267b91e",
   "metadata": {
    "tags": []
   },
   "outputs": [
    {
     "data": {
      "text/plain": [
       "3.3333333333333335"
      ]
     },
     "execution_count": 8,
     "metadata": {},
     "output_type": "execute_result"
    }
   ],
   "source": [
    "# This will convert 200 minutes to hours by diving by 60\n",
    "(200/60)"
   ]
  },
  {
   "cell_type": "markdown",
   "id": "29fcdfd5-53b2-424e-8075-a79ed1d3deb0",
   "metadata": {},
   "source": [
    "## Author\n",
    "Priyam Rai"
   ]
  },
  {
   "cell_type": "code",
   "execution_count": null,
   "id": "9ed06c23-34bd-41f8-adc1-015e313e9ddb",
   "metadata": {},
   "outputs": [],
   "source": []
  }
 ],
 "metadata": {
  "kernelspec": {
   "display_name": "Python",
   "language": "python",
   "name": "conda-env-python-py"
  },
  "language_info": {
   "codemirror_mode": {
    "name": "ipython",
    "version": 3
   },
   "file_extension": ".py",
   "mimetype": "text/x-python",
   "name": "python",
   "nbconvert_exporter": "python",
   "pygments_lexer": "ipython3",
   "version": "3.7.12"
  }
 },
 "nbformat": 4,
 "nbformat_minor": 5
}
